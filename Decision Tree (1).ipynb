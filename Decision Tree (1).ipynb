{
 "cells": [
  {
   "cell_type": "markdown",
   "id": "f59987d2-14ed-4316-b6c8-4923e269d29e",
   "metadata": {},
   "source": [
    "                                             **Decision Tree**"
   ]
  },
  {
   "cell_type": "markdown",
   "id": "ee773777-2ca7-4049-b688-90270564ad10",
   "metadata": {},
   "source": [
    "**Step1 : Data Preprocessing**"
   ]
  },
  {
   "cell_type": "markdown",
   "id": "76d88715-a8c5-4cf4-ba8b-a47b3033ba38",
   "metadata": {},
   "source": [
    "**Objective:**\n",
    "The objective of this assignment is to apply Decision Tree Classification to a given dataset, analyse the performance of the model, and interpret the results.\n"
   ]
  },
  {
   "cell_type": "code",
   "execution_count": 65,
   "id": "7186bf18-e981-454e-8ebe-ba89613a0c27",
   "metadata": {},
   "outputs": [
    {
     "name": "stdout",
     "output_type": "stream",
     "text": [
      "        age                                       Age in years\n",
      "0    Gender                       Gender ; Male - 1, Female -0\n",
      "1        cp                                    Chest pain type\n",
      "2  trestbps                             Resting blood pressure\n",
      "3      chol                                cholesterol measure\n",
      "4       fbs  (fasting blood sugar > 120 mg/dl) (1 = true; 0...\n",
      "Shape of the dataset: (12, 2)\n"
     ]
    }
   ],
   "source": [
    "#Loading data\n",
    "\n",
    "import pandas as pd\n",
    "import numpy as np\n",
    "\n",
    "dile_path = ('C:\\\\Users\\\\rishi\\\\OneDrive\\\\Desktop\\\\DS Assigments\\\\heart_disease.xlsx')\n",
    "df = pd.read_excel('C:\\\\Users\\\\rishi\\\\OneDrive\\\\Desktop\\\\DS Assigments\\\\heart_disease.xlsx')\n",
    "\n",
    "print(df.head())\n",
    "print(\"Shape of the dataset:\", df.shape)"
   ]
  },
  {
   "cell_type": "markdown",
   "id": "0e68b196-f524-4db1-b825-34fbd58a569c",
   "metadata": {},
   "source": [
    "**Step: 2**"
   ]
  },
  {
   "cell_type": "code",
   "execution_count": 66,
   "id": "35920281-7c5d-4240-9d2c-9ecc20ed18bb",
   "metadata": {},
   "outputs": [
    {
     "name": "stdout",
     "output_type": "stream",
     "text": [
      "age             0\n",
      "Age in years    0\n",
      "dtype: int64\n",
      "           age                  Age in years\n",
      "count       12                            12\n",
      "unique      12                            12\n",
      "top     Gender  Gender ; Male - 1, Female -0\n",
      "freq         1                             1\n"
     ]
    }
   ],
   "source": [
    "import matplotlib.pyplot as plt\n",
    "import seaborn as sns\n",
    "\n",
    "print(df.isnull().sum())\n",
    "\n",
    "print(df.describe())\n"
   ]
  },
  {
   "cell_type": "markdown",
   "id": "ba12273f-e7d3-44a9-a084-fdd22fdc9534",
   "metadata": {},
   "source": [
    "**Observation**"
   ]
  },
  {
   "cell_type": "markdown",
   "id": "75a55991-ebd1-46a2-b802-c85f9c47cbb5",
   "metadata": {},
   "source": [
    "'df.isnull().sum()' is used to check for missing values in each column of the dataset\n",
    "The output shows the count of missing values for each column and helps to identify any data quality issues that need to be addressed before  further analysis\n",
    "\n",
    "The 'df.describe()' provides a summary of the dataset's numerical features including count, mean, standard deviation, minimum, maximum, and the quartiles\n",
    "It helps in understanding the distribution of the data identifying potential outliers and gaining insights into the central tendency and spread of the features"
   ]
  },
  {
   "cell_type": "code",
   "execution_count": 67,
   "id": "d8a6662f-ebe4-4d2d-a76f-90cd202dfdfa",
   "metadata": {},
   "outputs": [
    {
     "name": "stdout",
     "output_type": "stream",
     "text": [
      "Index(['age', 'Age in years'], dtype='object')\n"
     ]
    }
   ],
   "source": [
    "print(df.columns)"
   ]
  },
  {
   "cell_type": "code",
   "execution_count": 68,
   "id": "e6918556-83b1-4151-8463-74f2bc4e3b33",
   "metadata": {},
   "outputs": [
    {
     "name": "stdout",
     "output_type": "stream",
     "text": [
      "age             object\n",
      "Age in years    object\n",
      "dtype: object\n"
     ]
    }
   ],
   "source": [
    "print(df.dtypes)"
   ]
  },
  {
   "cell_type": "code",
   "execution_count": 83,
   "id": "5d700c13-7ff6-478e-8b55-855ee51ac601",
   "metadata": {},
   "outputs": [],
   "source": [
    "df.columns = df.columns.str.strip()"
   ]
  },
  {
   "cell_type": "markdown",
   "id": "0e782930-b67b-40a3-8ab8-99ad89ded6e9",
   "metadata": {},
   "source": [
    "'df.columns.str.strip()' is used to remove any leading  spaces from the column names in tha DataFrame this checks that the column names are clean and consistent preventing errors when accessing  or manipulating data"
   ]
  },
  {
   "cell_type": "code",
   "execution_count": 85,
   "id": "65c19a7e-5bab-4670-a5a5-19e24d765843",
   "metadata": {},
   "outputs": [
    {
     "name": "stdout",
     "output_type": "stream",
     "text": [
      "Missing columns: ['age', 'Age in years']\n"
     ]
    }
   ],
   "source": [
    "columns_to_check =['age', 'Age in years']\n",
    "missing_columns = [col for col in columns_to_check if col not in df.columns]\n",
    "if missing_columns:\n",
    "    print(f\"Missing columns: {missing_columns}\")\n",
    "else:\n",
    "    print(df[columns_to_check].head())"
   ]
  },
  {
   "cell_type": "markdown",
   "id": "c500197e-eae4-4b1a-b4ac-98fc457eb23c",
   "metadata": {},
   "source": [
    "**Observation**"
   ]
  },
  {
   "cell_type": "markdown",
   "id": "1edcb91b-747d-41d6-b586-8f4673cdae20",
   "metadata": {},
   "source": [
    "It checks whether the columns 'age' and 'Age in years' exist in the DataFrame 'df'. It creates a list of 'missing_columns' that stores the names of any columns not found in the DataFrame.If missing columns are missing, the code prints their name or displays the first few rows of the specified columns. This will help in identifying and resolving issues  related to missing named columns and checks that the data is correctly accessed for further analysis"
   ]
  },
  {
   "cell_type": "code",
   "execution_count": 86,
   "id": "b87c78d6-d41a-4f11-815d-387295fcd60f",
   "metadata": {},
   "outputs": [],
   "source": [
    "df.rename(columns={'age': 'Age_Column1', 'Age in years': 'Age_column2'}, inplace=True)"
   ]
  },
  {
   "cell_type": "markdown",
   "id": "e16d54b2-5577-4a4f-b660-f3eff1c4ccca",
   "metadata": {},
   "source": [
    "I renamed the columns 'age' and 'Age in years' to 'Age_column1' and 'Age_column2' using the rename()' function in Pandas. This helps in Standardizing column names and avoiding potential confusion when working with DataFrame later in the analysis"
   ]
  },
  {
   "cell_type": "code",
   "execution_count": 87,
   "id": "e6639a42-a01f-49fd-ac6c-ea4aa3038b1f",
   "metadata": {},
   "outputs": [
    {
     "name": "stdout",
     "output_type": "stream",
     "text": [
      "Age_Column1    0\n",
      "Age_column2    0\n",
      "dtype: int64\n",
      "       Age_Column1  Age_column2\n",
      "count    12.000000    12.000000\n",
      "mean      5.500000     5.500000\n",
      "std       3.605551     3.605551\n",
      "min       0.000000     0.000000\n",
      "25%       2.750000     2.750000\n",
      "50%       5.500000     5.500000\n",
      "75%       8.250000     8.250000\n",
      "max      11.000000    11.000000\n"
     ]
    }
   ],
   "source": [
    "import matplotlib.pyplot as plt\n",
    "import seaborn as sns\n",
    "\n",
    "print(df.isnull().sum())\n",
    "\n",
    "print(df.describe())"
   ]
  },
  {
   "cell_type": "markdown",
   "id": "0a676fc4-a9af-435e-87cf-8ba342f45305",
   "metadata": {},
   "source": [
    "**Observation**"
   ]
  },
  {
   "cell_type": "markdown",
   "id": "4bac32dd-8ad6-414d-8019-cc7cb3044c15",
   "metadata": {},
   "source": [
    "The 'df.isnull().sum()' function was used to check for missing values in the dataset.\n",
    "The output shows the total number of missing values for each column in the dataset.\n",
    "\n",
    "The 'df.describe()' function was used to generate summary statistics for the numerical columns in the dataset.\n",
    "This includes key metrics such as count, mean, standard deviation, minimum 25th percentile, median,75th percentile, and maximum for each numerical column.\n"
   ]
  },
  {
   "cell_type": "code",
   "execution_count": null,
   "id": "f04c417e-4dba-4e1e-bffa-42ee85b1e01b",
   "metadata": {},
   "outputs": [],
   "source": [
    "#Histogram"
   ]
  },
  {
   "cell_type": "code",
   "execution_count": 88,
   "id": "7f00a91d-a49f-4058-bdd2-50bb5085e4fc",
   "metadata": {},
   "outputs": [
    {
     "data": {
      "image/png": "[encoded data removed]",
      "text/plain": [
       "<Figure size 1000x800 with 2 Axes>"
      ]
     },
     "metadata": {},
     "output_type": "display_data"
    }
   ],
   "source": [
    "df.hist(bins=20, figsize=(10, 8))\n",
    "plt.show()"
   ]
  },
  {
   "cell_type": "markdown",
   "id": "f795e871-3394-4cf0-9d8d-c6b7f54c42eb",
   "metadata": {},
   "source": [
    "**Observation**"
   ]
  },
  {
   "cell_type": "markdown",
   "id": "e07dad29-e5ad-4564-88c1-3aee6db02fec",
   "metadata": {},
   "source": [
    "'df.hist(bins=20, figsize=(10,8))' generates histograms for each numerical column in the dataset with 20 bins for each histogram. This histogram visually represents the distribution of values within each feature."
   ]
  },
  {
   "cell_type": "code",
   "execution_count": null,
   "id": "2d14f45e-8e9e-44ac-96b2-8382717e2140",
   "metadata": {},
   "outputs": [],
   "source": [
    "#Boxplots"
   ]
  },
  {
   "cell_type": "code",
   "execution_count": 89,
   "id": "593f39ff-2237-4432-b674-e9fb321ed8ae",
   "metadata": {},
   "outputs": [
    {
     "data": {
      "image/png": "[encoded data removed]",
      "text/plain": [
       "<Figure size 1200x800 with 9 Axes>"
      ]
     },
     "metadata": {},
     "output_type": "display_data"
    }
   ],
   "source": [
    "df.plot(kind='box', subplots=True, layout=(3,3), figsize=(12,8))\n",
    "plt.show()"
   ]
  },
  {
   "cell_type": "markdown",
   "id": "416bbb92-de2d-4bc9-b3fe-28f2961d7de7",
   "metadata": {},
   "source": [
    "This generates the box plot for each feature in the dataset to visualize the distribution and identify outliers. By using 'sunplots=True' individual box plots are created for each column arranged in 3*3 layout for better readability. The 'figsize(12,8)' parameter checks that the plots are large enough for clear visualization. "
   ]
  },
  {
   "cell_type": "code",
   "execution_count": null,
   "id": "4e828a2a-c1c9-4c58-9a23-8a8ac1d6bcaa",
   "metadata": {},
   "outputs": [],
   "source": [
    "#Correlation matrix"
   ]
  },
  {
   "cell_type": "code",
   "execution_count": 90,
   "id": "d69c9696-6092-42ee-bc10-8a48b39a4d68",
   "metadata": {},
   "outputs": [
    {
     "data": {
      "image/png": "[encoded data removed]",
      "text/plain": [
       "<Figure size 640x480 with 2 Axes>"
      ]
     },
     "metadata": {},
     "output_type": "display_data"
    }
   ],
   "source": [
    "corr_matrix = df.corr()\n",
    "sns.heatmap(corr_matrix, annot=True, cmap='coolwarm')\n",
    "plt.show()"
   ]
  },
  {
   "cell_type": "markdown",
   "id": "8bab8075-3f81-4c1e-acc2-f5fccbeee6e5",
   "metadata": {},
   "source": [
    "**Step 3:Feature Engineering**"
   ]
  },
  {
   "cell_type": "code",
   "execution_count": 91,
   "id": "da2bde04-18a5-489b-99ea-a856812b139c",
   "metadata": {},
   "outputs": [
    {
     "name": "stdout",
     "output_type": "stream",
     "text": [
      "   Age_Column1  Age_column2\n",
      "0    -1.593255    -1.013890\n",
      "1    -1.013890    -1.303572\n",
      "2     1.593255    -0.724207\n",
      "3    -1.303572     0.144841\n",
      "4    -0.434524    -1.593255\n"
     ]
    }
   ],
   "source": [
    "df_encoder = pd.get_dummies(df,drop_first=True)\n",
    "\n",
    "from sklearn.preprocessing import StandardScaler\n",
    "\n",
    "scaler = StandardScaler()\n",
    "scaled_features = scaler.fit_transform(df_encoded)\n",
    "\n",
    "df_scaled = pd.DataFrame(scaled_features, columns=df_encoded.columns)\n",
    "print(df_scaled.head())"
   ]
  },
  {
   "cell_type": "markdown",
   "id": "e2ae0d5f-975c-4ccd-a10d-8c4e58221296",
   "metadata": {},
   "source": [
    "**Observation**"
   ]
  },
  {
   "cell_type": "markdown",
   "id": "23da430c-36be-4718-a1b3-15e2c7a7d2eb",
   "metadata": {},
   "source": [
    "The 'pd.get_dummies(df, drop_first=True)' function was used to convert categorical variables into a numerical format that can be used by ML algorithm.\n",
    "By setting 'drop_first=True' one level of each categorical variable was dropped to avoid multicollinearity reduction in the dataset.\n",
    "\n",
    "The 'StandardScaler(0' was applied to standardize the numerical features of the dataset. This technique adjusts the data. so that each feature has a mean of 0 and a standard deviation of 1.\n",
    "\n",
    "Standardization is important for models that rely on distance calculations such as Decision Tress to check that all features contribute equally to the model.\n",
    "\n",
    "The scaled features were stored in a new DataFrame 'df_scaled' with the same column names as the original encoded DataFrame.\n",
    "This data frame will be used in subsequent modeling steps to check that the model performance optimal by using standardized data\n",
    "\n"
   ]
  },
  {
   "cell_type": "markdown",
   "id": "bfead840-08a3-4c1a-847f-3152134b18d4",
   "metadata": {},
   "source": [
    "**Step 4: Decision Tree Classification**"
   ]
  },
  {
   "cell_type": "code",
   "execution_count": 92,
   "id": "891849bc-d289-4ede-9d7d-ac42fb63e54f",
   "metadata": {},
   "outputs": [
    {
     "name": "stdout",
     "output_type": "stream",
     "text": [
      "[-1  1  0]\n"
     ]
    }
   ],
   "source": [
    "print(y.unique())"
   ]
  },
  {
   "cell_type": "code",
   "execution_count": 93,
   "id": "7b8da293-8806-4ffc-8cf0-666219b669b6",
   "metadata": {},
   "outputs": [
    {
     "name": "stdout",
     "output_type": "stream",
     "text": [
      "int32\n"
     ]
    }
   ],
   "source": [
    "print(y.dtype)"
   ]
  },
  {
   "cell_type": "code",
   "execution_count": 94,
   "id": "f93be60f-433b-420a-8384-9811e05df099",
   "metadata": {},
   "outputs": [],
   "source": [
    "if y.dtype in ['float64' , 'float32']:\n",
    "    y = y.astype(int)"
   ]
  },
  {
   "cell_type": "markdown",
   "id": "e19b0c58-aed4-45eb-8c19-892645c2f836",
   "metadata": {},
   "source": [
    "**Observation**"
   ]
  },
  {
   "cell_type": "markdown",
   "id": "be048df1-9fef-403a-8b4c-05ac159834fd",
   "metadata": {},
   "source": [
    "In this I checked the data type of the target variable 'y'. If 'y' is of type 'float64' or 'float32' it is converted to an integer type using 'astype(int)'.This is done to check that the target variable is in a suitable format for classification tasks as decision tree classifiers typically require the target variable to be categorical or integer-based rather than continuous float values"
   ]
  },
  {
   "cell_type": "code",
   "execution_count": 95,
   "id": "ded826b9-5fe8-425f-8267-92637a56a701",
   "metadata": {},
   "outputs": [],
   "source": [
    "if y.dtype == 'object' or y.dtype.name == 'category':\n",
    "    y = y.astype('category').cat.codes"
   ]
  },
  {
   "cell_type": "markdown",
   "id": "9ed9e3da-18b9-48d6-b075-67c27785a483",
   "metadata": {},
   "source": [
    "**Observation**"
   ]
  },
  {
   "cell_type": "markdown",
   "id": "389eb37d-587b-44c1-8569-f23a20ccb15d",
   "metadata": {},
   "source": [
    "first checked if the data type of 'y' is 'object' or 'category' This is important because categorical data needs to be converted into a numeric format for ML algorithms\n",
    "If the condition is true we should covert 'y' to a categorical type using 'astype('category')\n",
    "'cat. codes' is used to assign numeric codes to each category.This conversion is necessary because many ML algorithms including Decision Trees require numeric input\n"
   ]
  },
  {
   "cell_type": "code",
   "execution_count": 97,
   "id": "9d975a4b-e7cb-412f-823b-71f1560c30fe",
   "metadata": {},
   "outputs": [],
   "source": [
    "y_binned = pd.cut(y,bins=3, labels=[0, 1, 2])"
   ]
  },
  {
   "cell_type": "markdown",
   "id": "b2c81ae9-6eba-470b-b45c-469e8e57b6e7",
   "metadata": {},
   "source": [
    "**Observation**"
   ]
  },
  {
   "cell_type": "markdown",
   "id": "0a5e48d1-c0e4-4eea-812e-a0e6f8517a17",
   "metadata": {},
   "source": [
    "The 'pd.cut' function is used to convert continuous numerical data into discrete categories. This is used for transforming a continuous target variable into a categorical one which is required for classification tasks.\n",
    "The 'pd.cut' function divides the data into discrete intervals or bins.\n",
    "'y': This is a continuous target variable that we want to bin.\n",
    "'bins=3': Specifies that we want to divide the data into 3 bins or categories.\n",
    "'labels=[0, 1, 2]': Assigns labels to the these bins. The resulting categorical values will be '0', '1', and '2' corresponding to the intervals created by the binning."
   ]
  },
  {
   "cell_type": "code",
   "execution_count": 98,
   "id": "40611edc-763d-496b-b011-74203158ecb3",
   "metadata": {},
   "outputs": [
    {
     "name": "stdout",
     "output_type": "stream",
     "text": [
      "Accuracy: 0.6666666666666666\n",
      "Classification Report:\n",
      "               precision    recall  f1-score   support\n",
      "\n",
      "          -1       0.50      1.00      0.67         1\n",
      "           0       1.00      1.00      1.00         1\n",
      "           1       0.00      0.00      0.00         1\n",
      "\n",
      "    accuracy                           0.67         3\n",
      "   macro avg       0.50      0.67      0.56         3\n",
      "weighted avg       0.50      0.67      0.56         3\n",
      "\n",
      "Confusion Matrix:\n",
      " [[1 0 0]\n",
      " [0 1 0]\n",
      " [1 0 0]]\n"
     ]
    },
    {
     "name": "stderr",
     "output_type": "stream",
     "text": [
      "C:\\ProgramData\\anaconda3\\Lib\\site-packages\\sklearn\\metrics\\_classification.py:1344: UndefinedMetricWarning: Precision and F-score are ill-defined and being set to 0.0 in labels with no predicted samples. Use `zero_division` parameter to control this behavior.\n",
      "  _warn_prf(average, modifier, msg_start, len(result))\n",
      "C:\\ProgramData\\anaconda3\\Lib\\site-packages\\sklearn\\metrics\\_classification.py:1344: UndefinedMetricWarning: Precision and F-score are ill-defined and being set to 0.0 in labels with no predicted samples. Use `zero_division` parameter to control this behavior.\n",
      "  _warn_prf(average, modifier, msg_start, len(result))\n",
      "C:\\ProgramData\\anaconda3\\Lib\\site-packages\\sklearn\\metrics\\_classification.py:1344: UndefinedMetricWarning: Precision and F-score are ill-defined and being set to 0.0 in labels with no predicted samples. Use `zero_division` parameter to control this behavior.\n",
      "  _warn_prf(average, modifier, msg_start, len(result))\n"
     ]
    }
   ],
   "source": [
    "from sklearn.model_selection import train_test_split\n",
    "from sklearn.tree import DecisionTreeClassifier\n",
    "from sklearn.metrics import accuracy_score, classification_report, confusion_matrix\n",
    "import pandas as pd\n",
    "\n",
    "X_train, X_test, y_train, y_test = train_test_split(X, y, test_size=0.2, random_state=42)\n",
    "\n",
    "clf = DecisionTreeClassifier(random_state=42)\n",
    "\n",
    "clf.fit(X_train, y_train)\n",
    "\n",
    "y_pred = clf.predict(X_test)\n",
    "\n",
    "print(\"Accuracy:\", accuracy_score(y_test, y_pred))\n",
    "print(\"Classification Report:\\n\", classification_report(y_test, y_pred))\n",
    "print(\"Confusion Matrix:\\n\", confusion_matrix(y_test, y_pred))"
   ]
  },
  {
   "cell_type": "markdown",
   "id": "bb572e2c-61b6-45cc-9fba-e2fbc4af797f",
   "metadata": {},
   "source": [
    "**Observation**"
   ]
  },
  {
   "cell_type": "markdown",
   "id": "944dbe4b-1966-437a-97ff-7e8c2a2f58d5",
   "metadata": {},
   "source": [
    "First, the dataset is divided into training and testing sets using 80-20 split. This means that 805 of the data is used to train the model while 20% is used to evaluate its performance. The 'random_state' checks that the split is reproducible.\n",
    "A Decision Tree Classifier is initialized with a fixed 'random_state' to check consistent results across different runs. The DecisionTreeClassifier will be used to build a classification model based on the training data\n",
    "The Decision Tree model is trained on the training data ('X_train' and 'y_train') This process involves learning patterns and rules from training data to classify the data points.\n",
    "\n",
    "The trained model is used to make predictions on the testing data('X_test'). These predictions ('y_pred') represent the model's attempt to classify the test data.\n",
    "\n",
    "The performance of the model is evaluated using several metrics:\n",
    "Accuracy: The proportion of correctly classified instances out of the total instance. It gives an overall measure of how well the model is performing.\n",
    "Classification Report: Provides detailed metrics such as precision, recall, and F1-score for each class. Precision measures the accuracy of positive predictions, recall measures the ability to find all positive instances and F1-score is the harmonic mean of precision and recall.\n",
    "Confusion Matrix: A matrix that shows the number of true positives, False positives, true negatives, and false negatives. It helps to understand where the model is making\n",
    "errors."
   ]
  },
  {
   "cell_type": "markdown",
   "id": "8c8dd72a-ac07-4bfb-ae33-3dd19a3046d1",
   "metadata": {},
   "source": [
    "**Step 5: Hyperparameter Tuning**"
   ]
  },
  {
   "cell_type": "code",
   "execution_count": 99,
   "id": "7ca87072-5388-4318-983b-9f571d4c64d0",
   "metadata": {},
   "outputs": [
    {
     "name": "stderr",
     "output_type": "stream",
     "text": [
      "C:\\ProgramData\\anaconda3\\Lib\\site-packages\\sklearn\\model_selection\\_split.py:700: UserWarning: The least populated class in y has only 2 members, which is less than n_splits=5.\n",
      "  warnings.warn(\n"
     ]
    },
    {
     "name": "stdout",
     "output_type": "stream",
     "text": [
      "Best Parameters: {'criterion': 'gini', 'max_depth': 3, 'min_samples_split': 10}\n",
      "Best Cross-Validation Score: 0.6\n",
      "Optimized Model Accuracy 0.3333333333333333\n",
      "Optimized Classification Report:\n",
      "               precision    recall  f1-score   support\n",
      "\n",
      "          -1       0.00      0.00      0.00         1\n",
      "           0       0.33      1.00      0.50         1\n",
      "           1       0.00      0.00      0.00         1\n",
      "\n",
      "    accuracy                           0.33         3\n",
      "   macro avg       0.11      0.33      0.17         3\n",
      "weighted avg       0.11      0.33      0.17         3\n",
      "\n"
     ]
    },
    {
     "name": "stderr",
     "output_type": "stream",
     "text": [
      "C:\\ProgramData\\anaconda3\\Lib\\site-packages\\sklearn\\metrics\\_classification.py:1344: UndefinedMetricWarning: Precision and F-score are ill-defined and being set to 0.0 in labels with no predicted samples. Use `zero_division` parameter to control this behavior.\n",
      "  _warn_prf(average, modifier, msg_start, len(result))\n",
      "C:\\ProgramData\\anaconda3\\Lib\\site-packages\\sklearn\\metrics\\_classification.py:1344: UndefinedMetricWarning: Precision and F-score are ill-defined and being set to 0.0 in labels with no predicted samples. Use `zero_division` parameter to control this behavior.\n",
      "  _warn_prf(average, modifier, msg_start, len(result))\n",
      "C:\\ProgramData\\anaconda3\\Lib\\site-packages\\sklearn\\metrics\\_classification.py:1344: UndefinedMetricWarning: Precision and F-score are ill-defined and being set to 0.0 in labels with no predicted samples. Use `zero_division` parameter to control this behavior.\n",
      "  _warn_prf(average, modifier, msg_start, len(result))\n"
     ]
    }
   ],
   "source": [
    "from sklearn.model_selection import GridSearchCV\n",
    "\n",
    "param_grid = {\n",
    "    'max_depth': [3,5,7,10],\n",
    "    'min_samples_split':[2,5,10],\n",
    "    'criterion':['gini', 'entropy']\n",
    "}\n",
    "\n",
    "\n",
    "grid_search = GridSearchCV(clf, param_grid, cv=5,scoring='accuracy')\n",
    "\n",
    "grid_search.fit(X_train, y_train)\n",
    "\n",
    "print(\"Best Parameters:\", grid_search.best_params_)\n",
    "print(\"Best Cross-Validation Score:\", grid_search.best_score_)\n",
    "\n",
    "best_model = grid_search.best_estimator_\n",
    "y_pred_best = best_model.predict(X_test)\n",
    "\n",
    "print(\"Optimized Model Accuracy\", accuracy_score(y_test, y_pred_best))\n",
    "print(\"Optimized Classification Report:\\n\", classification_report(y_test, y_pred_best))\n"
   ]
  },
  {
   "cell_type": "markdown",
   "id": "f699a640-6cc4-4f87-9444-7e928681bb6c",
   "metadata": {},
   "source": [
    "**Observation**"
   ]
  },
  {
   "cell_type": "markdown",
   "id": "c929df94-2d81-4f72-9067-26c36993a569",
   "metadata": {},
   "source": [
    "The 'param_grid' dictionary is defined with different values for hyperparameters of the Decision Tree model. These parameters include 'max_depth', 'min_samples_split' and 'criterion'. This grid helps explore different combinations to find the best model.\n",
    "\n",
    "'GridSearchCV' is initialized with the Decision Tree model('clf') the parameter grid('param_grid').5 -fold cross-validation('cv=5') and the 'accuracy' scoring metric. This setup is for systematic tuning of hyperparameters and evaluation of the model's performance.\n",
    "\n",
    "The 'grid_search.fit(X_train, y_train)' function performs the grid search by training multiple models with different hyperparameter combinations and evaluating their performance using cross-validation.\n",
    "\n",
    "After fitting the grid search the best combination of hyperparameters is obtained using 'grid_search.best_params' and the best cross-validation score (;grid_search.best_score_') is printed showing the highest accuracy achieved during the grid search.\n",
    "\n",
    "The best model from the grid search is used to make predictions on the test set('y_pred_best'). The accuracy of this optimized model is then calculated and displayed using 'accuracy_score'.The classification report is also generated to provide detailed performance metrics, including precision, recall, and F1-score.\n",
    "\n",
    "This helps in understanding which hyperparameters yield the best performance for the Decision Tree model. By evaluating the optimized model's accuracy and classification report."
   ]
  },
  {
   "cell_type": "markdown",
   "id": "8cf191d4-2af3-4c09-8072-440157a2a6e9",
   "metadata": {},
   "source": [
    "**Step 6 Model Evaluation and Analysis**"
   ]
  },
  {
   "cell_type": "code",
   "execution_count": 100,
   "id": "42e83ce3-f16f-4ebd-abea-c4a05138afad",
   "metadata": {},
   "outputs": [
    {
     "data": {
      "image/png": "[encoded data removed]",
      "text/plain": [
       "<Figure size 1200x800 with 1 Axes>"
      ]
     },
     "metadata": {},
     "output_type": "display_data"
    },
    {
     "name": "stdout",
     "output_type": "stream",
     "text": [
      "Feature Importance:\n",
      "         Feature  Importance\n",
      "0  Age in years         0.0\n"
     ]
    }
   ],
   "source": [
    "from sklearn.tree import plot_tree\n",
    "\n",
    "plt.figure(figsize=(12,8))\n",
    "plot_tree(best_model, filled=True, feature_names=X.columns, class_names=['Class 0', 'Class 1'])\n",
    "plt.show()\n",
    "\n",
    "importances = best_model.feature_importances_\n",
    "feature_importance_df = pd.DataFrame({\n",
    "    'Feature': X.columns,\n",
    "    'Importance': importances\n",
    "}).sort_values(by='Importance', ascending=False)\n",
    "\n",
    "print(\"Feature Importance:\\n\", feature_importance_df)\n",
    "    "
   ]
  },
  {
   "cell_type": "markdown",
   "id": "c3e8cdeb-ce6b-472d-b4aa-e5cf1dfe3c13",
   "metadata": {},
   "source": [
    "**Observation**"
   ]
  },
  {
   "cell_type": "markdown",
   "id": "7ba12b78-80c0-45d2-b526-98b9038cbb97",
   "metadata": {},
   "source": [
    "This code snippet visualizes the structure of the trained Decision tree model using 'plot_tree'.\n",
    "'plt.figure(figsize=(12,8))': Sets the size of the plot to 12* 8 inches for better visibility.\n",
    "'plot_tree(best_model, filled_True, feature_names=X.columns,class_names['Class 0;, 'Class 1'])': Plots the tree with filled colors showing the feature names and class names.\n",
    "alt last displays the plot\n",
    "This visualization provides a graphical representation of the decision-making process of the model, highlighting how decisions are made based on different feature values. This helps in understanding which features are most influential in the model's predictions.\n",
    "\n",
    "And the next it calculates and displays the importance of each feature in the Decision tree model\n",
    "\n",
    "'importance = best_model.feature_importances_:Extracts the importance scores for each feature from the trained model.\n",
    "'pd.DataFrame({...}0.sort_values(by='Importance', ascending=False0'\" Creates a DataFrame with feature names and their corresponding importance score, and sorts them in descending order of importance.\n",
    "'print(\"Feature Importance:\\n', feature_importance_df)': Prints the sorted data frame showing feature importance\n",
    "\n",
    "The feature importance scores indicate how much each feature contributes to the model's predictions. Higher scores signify more influence. Analyzing these scores helps identify which features are most crucial for the models decision-making."
   ]
  },
  {
   "cell_type": "markdown",
   "id": "0273689f-5426-48b3-afc8-0c6c4ebbff57",
   "metadata": {},
   "source": [
    "**Interview Questions:**"
   ]
  },
  {
   "cell_type": "markdown",
   "id": "bf20549c-c6b8-4768-a2d8-1659ccf0f971",
   "metadata": {},
   "source": [
    "1. Common Hyperparameters of Decision Tree Models:\n",
    "\n",
    "max_depth: Limits the depth of the tree. Depper trees can model more complex patterns but may overfit.\n",
    "\n",
    "min_samples_split: The minimum number is samples required to split an internal node. Higher values prevent the model from learning overly specific patterns.\n",
    "\n",
    "criterion: The function to measure the quality of a split\n"
   ]
  },
  {
   "cell_type": "markdown",
   "id": "39f0e41f-4e80-4a23-b228-37e36b18e8c9",
   "metadata": {},
   "source": [
    "2. Difference Between Label Encoding and One-hot Encoding:\n",
    "Label Encoding: Converts categorical values into numerical values\n",
    "\n",
    "One-hot Encoding: Converts categorical values into binary columns where each category is represented by a separate column"
   ]
  }
 ],
 "metadata": {
  "kernelspec": {
   "display_name": "Python 3 (ipykernel)",
   "language": "python",
   "name": "python3"
  },
  "language_info": {
   "codemirror_mode": {
    "name": "ipython",
    "version": 3
   },
   "file_extension": ".py",
   "mimetype": "text/x-python",
   "name": "python",
   "nbconvert_exporter": "python",
   "pygments_lexer": "ipython3",
   "version": "3.11.7"
  }
 },
 "nbformat": 4,
 "nbformat_minor": 5
}
